{
  "nbformat": 4,
  "nbformat_minor": 0,
  "metadata": {
    "colab": {
      "name": "Stock ticker API homework.ipynb",
      "provenance": [],
      "authorship_tag": "ABX9TyMoVlQ+xpQUEcw0aQ/c6ckE",
      "include_colab_link": true
    },
    "kernelspec": {
      "name": "python3",
      "display_name": "Python 3"
    },
    "language_info": {
      "name": "python"
    }
  },
  "cells": [
    {
      "cell_type": "markdown",
      "metadata": {
        "id": "view-in-github",
        "colab_type": "text"
      },
      "source": [
        "<a href=\"https://colab.research.google.com/github/prapoljkub/prapoljkub/blob/main/Stock_ticker_API_homework.ipynb\" target=\"_parent\"><img src=\"https://colab.research.google.com/assets/colab-badge.svg\" alt=\"Open In Colab\"/></a>"
      ]
    },
    {
      "cell_type": "markdown",
      "source": [
        "# API for Stock\n",
        "\n",
        "> Indented block\n",
        "\n",
        "\n",
        "\n"
      ],
      "metadata": {
        "id": "Aj59fWNdekYj"
      }
    },
    {
      "cell_type": "code",
      "source": [
        "import requests\n",
        "import pandas as pd\n",
        "\n",
        "\n",
        "url = \"https://yfapi.net/v6/finance/quote\"\n",
        "\n",
        "querystring = {\"symbols\":\"AAPL,TSLA,ABNB,SBUX,DIS,NFLX,PFE,AMZN,MSFT,GME\"}\n",
        "\n",
        "headers = {\n",
        "    'x-api-key': \"3o0gkmOBSv6nQeobDfPxg23LqIdIEs1c9671pOsd\"\n",
        "    }\n",
        "\n",
        "response = requests.get(url, querystring, headers=headers).json()\n",
        "response['quoteResponse']['result'][2]['shortName']\n"
      ],
      "metadata": {
        "colab": {
          "base_uri": "https://localhost:8080/",
          "height": 37
        },
        "id": "RMqLVGeRq2C3",
        "outputId": "7f6a9d7d-c032-4538-9aa4-9e0916e72067"
      },
      "execution_count": null,
      "outputs": [
        {
          "output_type": "execute_result",
          "data": {
            "text/plain": [
              "'Airbnb, Inc.'"
            ],
            "application/vnd.google.colaboratory.intrinsic+json": {
              "type": "string"
            }
          },
          "metadata": {},
          "execution_count": 58
        }
      ]
    },
    {
      "cell_type": "code",
      "source": [
        "# for loop\n",
        "result = []\n",
        "for i in range(10):\n",
        "    data = [\n",
        "            response['quoteResponse']['result'][(i-1)+1]['shortName'],\n",
        "            response['quoteResponse']['result'][(i-1)+1]['symbol'],\n",
        "            response['quoteResponse']['result'][(i-1)+1]['quoteSourceName'],\n",
        "            response['quoteResponse']['result'][(i-1)+1]['regularMarketDayRange'],\n",
        "            response['quoteResponse']['result'][(i-1)+1]['regularMarketChangePercent'],\n",
        "            response['quoteResponse']['result'][(i-1)+1]['regularMarketPrice'],\n",
        "            response['quoteResponse']['result'][(i-1)+1]['financialCurrency'],\n",
        "\n",
        "    ]\n",
        "    result.append(data)\n",
        "\n",
        "print(result)"
      ],
      "metadata": {
        "colab": {
          "base_uri": "https://localhost:8080/"
        },
        "id": "quvgrAOSq8oR",
        "outputId": "d35458ba-8170-4f18-b5fd-7210aea26c7f"
      },
      "execution_count": null,
      "outputs": [
        {
          "output_type": "stream",
          "name": "stdout",
          "text": [
            "[['Apple Inc.', 'AAPL', 'Nasdaq Real Time Price', '170.13 - 173.63', -1.8450793, 171.83, 'USD'], ['Tesla, Inc.', 'TSLA', 'Nasdaq Real Time Price', '1027.7 - 1079.0', -4.1694922, 1045.76, 'USD'], ['Airbnb, Inc.', 'ABNB', 'Delayed Quote', '161.66 - 168.77', -3.8257127, 164.66, 'USD'], ['Starbucks Corporation', 'SBUX', 'Delayed Quote', '82.07 - 83.89', -0.9034737, 83.36, 'USD'], ['Walt Disney Company (The)', 'DIS', 'Delayed Quote', '130.81 - 133.93', -2.2489219, 132.57, 'USD'], ['Netflix, Inc.', 'NFLX', 'Delayed Quote', '362.73 - 376.4699', -3.104035, 368.35, 'USD'], ['Pfizer, Inc.', 'PFE', 'Nasdaq Real Time Price', '51.16 - 53.09', 3.1811028, 52.87, 'USD'], ['Amazon.com, Inc.', 'AMZN', 'Delayed Quote', '3146.03 - 3243.9875', -3.2300136, 3175.12, 'USD'], ['Microsoft Corporation', 'MSFT', 'Delayed Quote', '296.71 - 307.0', -3.660578, 299.5, 'USD'], ['GameStop Corporation', 'GME', 'Nasdaq Real Time Price', '149.7 - 159.2873', 1.9858085, 156.64, 'USD']]\n"
          ]
        }
      ]
    },
    {
      "cell_type": "code",
      "source": [
        "headers = ['name','symbol','market','dayrange','daypercentchange','dayprice','currency']\n",
        "\n",
        "stock = pd.DataFrame(result, columns = headers)\n",
        "stock.to_csv(\"stock.csv\",index=False)\n",
        "print(stock)"
      ],
      "metadata": {
        "id": "AZiZrJMgsGoF",
        "colab": {
          "base_uri": "https://localhost:8080/"
        },
        "outputId": "52c7ca92-850a-4e0e-cff7-5a2597386d8f"
      },
      "execution_count": null,
      "outputs": [
        {
          "output_type": "stream",
          "name": "stdout",
          "text": [
            "                        name symbol                  market  \\\n",
            "0                 Apple Inc.   AAPL  Nasdaq Real Time Price   \n",
            "1                Tesla, Inc.   TSLA  Nasdaq Real Time Price   \n",
            "2               Airbnb, Inc.   ABNB           Delayed Quote   \n",
            "3      Starbucks Corporation   SBUX           Delayed Quote   \n",
            "4  Walt Disney Company (The)    DIS           Delayed Quote   \n",
            "5              Netflix, Inc.   NFLX           Delayed Quote   \n",
            "6               Pfizer, Inc.    PFE  Nasdaq Real Time Price   \n",
            "7           Amazon.com, Inc.   AMZN           Delayed Quote   \n",
            "8      Microsoft Corporation   MSFT           Delayed Quote   \n",
            "9       GameStop Corporation    GME  Nasdaq Real Time Price   \n",
            "\n",
            "              dayrange  daypercentchange  dayprice currency  \n",
            "0      170.13 - 173.63         -1.845079    171.83      USD  \n",
            "1      1027.7 - 1079.0         -4.169492   1045.76      USD  \n",
            "2      161.66 - 168.77         -3.825713    164.66      USD  \n",
            "3        82.07 - 83.89         -0.903474     83.36      USD  \n",
            "4      130.81 - 133.93         -2.248922    132.57      USD  \n",
            "5    362.73 - 376.4699         -3.104035    368.35      USD  \n",
            "6        51.16 - 53.09          3.181103     52.87      USD  \n",
            "7  3146.03 - 3243.9875         -3.230014   3175.12      USD  \n",
            "8       296.71 - 307.0         -3.660578    299.50      USD  \n",
            "9     149.7 - 159.2873          1.985809    156.64      USD  \n"
          ]
        }
      ]
    },
    {
      "cell_type": "code",
      "source": [
        ""
      ],
      "metadata": {
        "id": "_VcLPsj62u_a"
      },
      "execution_count": null,
      "outputs": []
    }
  ]
}
