{
  "nbformat": 4,
  "nbformat_minor": 0,
  "metadata": {
    "colab": {
      "name": "Restaurant Reservation System",
      "provenance": [],
      "collapsed_sections": [],
      "authorship_tag": "ABX9TyMnQq9h6EBSz8K9aXpfzPDi",
      "include_colab_link": true
    },
    "kernelspec": {
      "name": "python3",
      "display_name": "Python 3"
    },
    "language_info": {
      "name": "python"
    }
  },
  "cells": [
    {
      "cell_type": "markdown",
      "metadata": {
        "id": "view-in-github",
        "colab_type": "text"
      },
      "source": [
        "<a href=\"https://colab.research.google.com/github/prapoljkub/prapoljkub/blob/main/Restaurant_Reservation_System.ipynb\" target=\"_parent\"><img src=\"https://colab.research.google.com/assets/colab-badge.svg\" alt=\"Open In Colab\"/></a>"
      ]
    },
    {
      "cell_type": "markdown",
      "source": [
        "# Restaurant Reservation System\n",
        "- Sign up & Greeting\n",
        "- Reservation\n",
        "- View Menu and Coupon Purchase\n",
        "- Restaurant Contact Information\n",
        "- Total Coupon Sales\n",
        "\n",
        "Lacking System\n",
        "- Capacity of seats per day"
      ],
      "metadata": {
        "id": "oiENHX0NSH5x"
      }
    },
    {
      "cell_type": "code",
      "execution_count": null,
      "metadata": {
        "id": "06QpswdY7xN_"
      },
      "outputs": [],
      "source": [
        "import datetime\n",
        "\n",
        "class Restaurant:   \n",
        "    def __init__(self, restaurant_name, menu):\n",
        "        self.restaurant_name = restaurant_name\n",
        "        self.menu = menu\n",
        "        self.revenue = 0\n",
        "        self.shop_table2 = 5\n",
        "        self.shope_table4 = 3\n",
        "\n",
        "\n",
        "## 1) Sign up & Greeting\n",
        "    def sign_up(self):\n",
        "        customer = input(\"What is your name?: \")\n",
        "        print(f\"Hello! {customer}, Welcome to the reservation system of {self.restaurant_name} \")\n",
        "        print(\"Please follow all the steps as extraordinary experiences await you  \")\n",
        "\n",
        "## 2) Reservation \n",
        "    def reserve(self):\n",
        "        print(\"We are currently accept reservations for the upcoming month: May\")\n",
        "        date = int(input(\"Please put the date you wish to reserve: \"))\n",
        "        if date < 32:\n",
        "            slot = [\"11:00\", \"12:30\", \"18:00\", \"19:30\"]\n",
        "            time = str(input(f\"\"\"Please choose the time slot from the following \n",
        "{slot}: \"\"\"))\n",
        "            if  time in slot:\n",
        "                name = input(\"Please put the name you wish to reserve as: \")\n",
        "                telephone = input(\"Please insert your telephone number: \")\n",
        "                amount = input(\"Please specify the number of guests: \")\n",
        "                print(f\"\"\"Thank you! Mr/Ms/Mrs {name}. \n",
        "Your table for {amount} has been reserved at {time}. \n",
        "Your number is {telephone}!\n",
        "We will contact you 1 day prior to your booked date!\"\"\")\n",
        "            else:\n",
        "                print(\"Sorry the time slot is unavailable!\")\n",
        "        else:\n",
        "            print(\"Sorry the date you insert is unavailable\")\n",
        "\n",
        "\n",
        "## 3) Menu listing and Coupon Purchasing\n",
        "    def viewmenu(self):\n",
        "        print(\"Here is our restaurant selections tailored just for you \")\n",
        "        for selection in self.menu:\n",
        "            print(f\"{selection}. {self.menu[selection]['name']} : {self.menu[selection]['price']} THB\")\n",
        "        print(\"\"\"Our restaurant provided special discount for these menus\n",
        "upon purchasing coupons prior to arrival\"\"\")\n",
        "        order = input(\"Do you wish to purchase coupons (yes or no): \")\n",
        "        if order == \"yes\":\n",
        "            print(\"Here is the discounted menu: \")\n",
        "            for selection in self.menu:\n",
        "                print(f\"{selection}. {self.menu[selection]['name']} : {self.menu[selection]['price']} - {self.menu[selection]['discount']}  = {self.menu[selection]['discount_price']}THB\")\n",
        "            purchase = int(input(\"Please insert the menu you wish to purchase (1-6): \"))\n",
        "            quantity = int(input(\"Please insert the amount of coupon you wish to purchase: \"))\n",
        "            self.revenue += self.menu[purchase]['discount_price']* quantity\n",
        "            print(f\"\"\"Your order is number {purchase}. {self.menu[purchase]['name']} with the total of {self.menu[purchase]['discount_price']* quantity} THB!\n",
        "Link for payment: www.xxxxxxx.com\n",
        "Your coupon(s) will be in your wallet page\n",
        "Looking forward to see you soon \"\"\")\n",
        "        else: \n",
        "            print(\"It is our pleasure to serve you\")\n",
        "\n",
        "\n",
        "## 4) Restaurant Contact Information\n",
        "    def contact(self):\n",
        "        print(f\"\"\"Address: Supreme Tower ,XX Sukhumvit Road 11, Bangkok, XXXXX\n",
        "Opening-Closing Time: 11:00 -22:00 \n",
        "Telephone number: 02-xxx-xxxx\n",
        "Line ID: @DroolingTable\n",
        "Website: www.DroolingTable.co.th\"\"\")\n",
        "\n",
        "##. 5) Total Coupon Sales\n",
        "    def sales(self):\n",
        "        print(f\"Total Sale {self.revenue} THB\")\n"
      ]
    },
    {
      "cell_type": "code",
      "source": [
        "# restaurant time slot\n",
        "slot = [\"11:00\", \"12:30\", \"18:00\", \"19:30\"]\n",
        "\n",
        "\n",
        "# Create restaurant menu\n",
        "\n",
        "menu = {\n",
        "    1: {\"name\": \"Best Beef set\",\n",
        "        \"price\": 2200,\n",
        "        \"discount\": 500,\n",
        "        \"discount_price\": 1700\n",
        "    },\n",
        "    2: {\"name\": \"Hokkaido set\",\n",
        "        \"price\": 1500,\n",
        "        \"discount\": 400,\n",
        "        \"discount_price\": 1100\n",
        "    },\n",
        "    3: {\"name\": \"Love Spring set\",\n",
        "        \"price\": 2300,\n",
        "        \"discount\": 500,\n",
        "        \"discount_price\": 1800\n",
        "    },\n",
        "    4: {\"name\": \"Old Time Sake set\",\n",
        "        \"price\": 1600,\n",
        "        \"discount\": 400,\n",
        "        \"discount_price\": 1200\n",
        "    },\n",
        "    5: {\"name\": \"Wonder Ponder set\",\n",
        "        \"price\": 3000,\n",
        "        \"discount\": 650,\n",
        "        \"discount_price\": 2350\n",
        "    },\n",
        "    5: {\"name\": \"Around The World set\",\n",
        "        \"price\": 3500,\n",
        "        \"discount\": 700,\n",
        "        \"discount_price\": 2800\n",
        "    },\n",
        "    6: {\"name\": \"All Star set\",\n",
        "        \"price\": 3100,\n",
        "        \"discount\": 650,\n",
        "        \"discount_price\": 2450\n",
        "    }\n",
        "}\n",
        "\n",
        "# Create restaurant identity\n",
        "DroolingTable = Restaurant(\"Drooling Table\", menu)"
      ],
      "metadata": {
        "id": "-QNQ1cRdvA53"
      },
      "execution_count": null,
      "outputs": []
    },
    {
      "cell_type": "code",
      "source": [
        "DroolingTable.sign_up()"
      ],
      "metadata": {
        "colab": {
          "base_uri": "https://localhost:8080/"
        },
        "id": "pet4NWgzvNza",
        "outputId": "7b3faf60-492b-4817-b050-ff24ec822c9a"
      },
      "execution_count": null,
      "outputs": [
        {
          "output_type": "stream",
          "name": "stdout",
          "text": [
            "What is your name?: Jay\n",
            "Hello! Jay, Welcome to the reservation system of Drooling Table \n",
            "Please follow all the steps as extraordinary experiences await you  \n"
          ]
        }
      ]
    },
    {
      "cell_type": "code",
      "source": [
        "DroolingTable.reserve()"
      ],
      "metadata": {
        "colab": {
          "base_uri": "https://localhost:8080/"
        },
        "id": "WyR3mRxO4UY_",
        "outputId": "b74bad04-5696-4350-980b-884dce91bff5"
      },
      "execution_count": null,
      "outputs": [
        {
          "output_type": "stream",
          "name": "stdout",
          "text": [
            "We are currently accept reservations for the upcoming month: May\n",
            "Please put the date you wish to reserve: 26\n",
            "Please choose the time slot from the following \n",
            "['11:00', '12:30', '18:00', '19:30']: 18:00\n",
            "Please put the name you wish to reserve as: Jay\n",
            "Please insert your telephone number: 081xxxxxxx\n",
            "Please specify the number of guests: 2\n",
            "Thank you! Mr/Ms/Mrs Jay. \n",
            "Your table fpr 2 has been reserved at 18:00. \n",
            "Your number is 081xxxxxxx!\n",
            "We will contact you 1 day prior to your booked date!\n"
          ]
        }
      ]
    },
    {
      "cell_type": "code",
      "source": [
        "DroolingTable.viewmenu()"
      ],
      "metadata": {
        "colab": {
          "base_uri": "https://localhost:8080/"
        },
        "id": "qBO8E8cojqrA",
        "outputId": "0eda297d-da07-4034-eff5-3f478a01fafa"
      },
      "execution_count": null,
      "outputs": [
        {
          "output_type": "stream",
          "name": "stdout",
          "text": [
            "Here is our restaurant selections tailored just for you \n",
            "1. Best Beef set : 2200 THB\n",
            "2. Hokkaido set : 1500 THB\n",
            "3. Love Spring set : 2300 THB\n",
            "4. Old Time Sake set : 1600 THB\n",
            "5. Around The World set : 3500 THB\n",
            "6. All Star set : 3100 THB\n",
            "Our restaurant provided special discount for these menus\n",
            "upon purchasing coupons prior to arrival\n",
            "Do you wish to purchase coupons (yes or no): yes\n",
            "Here is the discounted menu: \n",
            "1. Best Beef set : 2200 - 500  = 1700THB\n",
            "2. Hokkaido set : 1500 - 400  = 1100THB\n",
            "3. Love Spring set : 2300 - 500  = 1800THB\n",
            "4. Old Time Sake set : 1600 - 400  = 1200THB\n",
            "5. Around The World set : 3500 - 700  = 2800THB\n",
            "6. All Star set : 3100 - 650  = 2450THB\n",
            "Please insert the menu you wish to purchase (1-6): 2\n",
            "Please insert the amount of coupon you wish to purchase: 5\n",
            "Your order is number 2. Hokkaido set with the total of 5500 THB!\n",
            "Link for payment: www.xxxxxxx.com\n",
            "Your coupon(s) will be in your wallet page\n",
            "Looking forward to see you soon \n"
          ]
        }
      ]
    },
    {
      "cell_type": "code",
      "source": [
        "DroolingTable.contact()"
      ],
      "metadata": {
        "colab": {
          "base_uri": "https://localhost:8080/"
        },
        "id": "wcAaBv6SmI9T",
        "outputId": "4d75666d-242a-4b14-c3c7-fc6facb74246"
      },
      "execution_count": null,
      "outputs": [
        {
          "output_type": "stream",
          "name": "stdout",
          "text": [
            "Address: Supreme Tower ,XX Sukhumvit Road 11, Bangkok, XXXXX\n",
            "Opening-Closing Time: 11:00 -22:00 \n",
            "Telephone number: 02-xxx-xxxx\n",
            "Line ID: @DroolingTable\n",
            "Website: www.DroolingTable.co.th\n"
          ]
        }
      ]
    },
    {
      "cell_type": "code",
      "source": [
        "DroolingTable.sales()"
      ],
      "metadata": {
        "colab": {
          "base_uri": "https://localhost:8080/"
        },
        "id": "BNVJARtam4Gc",
        "outputId": "15dcc777-ae1f-4d9f-fb04-0e23c7a4108f"
      },
      "execution_count": null,
      "outputs": [
        {
          "output_type": "stream",
          "name": "stdout",
          "text": [
            "Total Sale 5500 THB\n"
          ]
        }
      ]
    },
    {
      "cell_type": "code",
      "source": [
        ""
      ],
      "metadata": {
        "id": "mfgcsbbTm-Qp"
      },
      "execution_count": null,
      "outputs": []
    }
  ]
}